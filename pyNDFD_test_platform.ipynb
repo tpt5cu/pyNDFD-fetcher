{
 "cells": [
  {
   "cell_type": "markdown",
   "metadata": {},
   "source": [
    "API for fetching NDFD data via their rest service. Written in python 3. In development.\n",
    "Right now subGrid and getDataZipcode work well.\n",
    "API Reference: https://graphical.weather.gov/xml/rest.php#degrib\n",
    "Author: Tuomas Talvitie\n",
    "Year: 2020"
   ]
  },
  {
   "cell_type": "code",
   "execution_count": 3,
   "metadata": {},
   "outputs": [],
   "source": [
    "import sys\n",
    "import pandas as pd\n",
    "import matplotlib.pyplot as plt\n",
    "import datetime\n",
    "import requests\n",
    "from urllib.parse import urlencode, quote\n",
    "import xml.etree.ElementTree as ET\n",
    "import xmltodict\n",
    "import json"
   ]
  },
  {
   "cell_type": "code",
   "execution_count": 4,
   "metadata": {},
   "outputs": [],
   "source": [
    "class ApiError(Exception):\n",
    "\n",
    "    def __init__(self, message, status_code=None, payload=None):\n",
    "        Exception.__init__(self)\n",
    "        self.message = message\n",
    "        if status_code is not None:\n",
    "            self.status_code = status_code\n",
    "        self.payload = payload\n",
    "        print(self.message)\n",
    "        raise Exception(self.message + ' ' + str(self.status_code))\n",
    "\n",
    "    def to_dict(self):\n",
    "        rv = dict(self.payload or ())\n",
    "        rv['message'] = self.message\n",
    "        print(rv['message'])\n",
    "        return rv"
   ]
  },
  {
   "cell_type": "code",
   "execution_count": 6,
   "metadata": {},
   "outputs": [],
   "source": [
    "#Main URL path\n",
    "def _url(path=''):\n",
    "    return 'http://www.weather.gov/forecasts/xml/sample_products/browser_interface/ndfdXMLclient.php?' + path\n"
   ]
  },
  {
   "cell_type": "code",
   "execution_count": 5,
   "metadata": {},
   "outputs": [],
   "source": [
    "def subGrid(centerPointLat, centerPointLon, distanceLat, distanceLon, resolutionSquare, product, begin, end, Unit='m', optional_params=['wspd', 'wdir']):\n",
    "\t#Split into 3 dictionaries, each are encoded in a different manner\n",
    "\tparams = {\n",
    "\t\t'centerPointLat':centerPointLat,\n",
    "\t\t'centerPointLon':centerPointLon,\n",
    "\t\t'distanceLat':distanceLat,\n",
    "\t\t'distanceLon':distanceLon,\n",
    "\t\t'resolutionSquare':resolutionSquare,\n",
    "\t\t'product':product\n",
    "\t}\n",
    "\t#Begin/end has special encoding\n",
    "\tparams2 = {'begin':begin,\n",
    "\t'end':end\n",
    "\t}\n",
    "\tparams3 = {\n",
    "\t\t'Unit':Unit,\n",
    "\t}\n",
    "\n",
    "\turlString = urlencode(params)\n",
    "\tsubString = ''\n",
    "\tfor key, value in params2.items():\n",
    "\t\tsubString += '&'+str(key) + '=' + str(value)\n",
    "\turlString+=subString\n",
    "\tfor i in optional_params:\n",
    "\t\tparams3[i] = i\n",
    "\turlString +='&' + urlencode(params3)\n",
    "\n",
    "\treturn urlString"
   ]
  },
  {
   "cell_type": "code",
   "execution_count": 7,
   "metadata": {},
   "outputs": [],
   "source": [
    "#This function acts as a general xml parser\n",
    "def _generalParseXml(data):\n",
    "\to = xmltodict.parse(data.content)\n",
    "\td = json.dumps(o)\n",
    "\td = json.loads(d)\n",
    "\treturn d"
   ]
  },
  {
   "cell_type": "code",
   "execution_count": 8,
   "metadata": {},
   "outputs": [],
   "source": [
    "def run_request(q):\n",
    "\tprint(_url(q))\n",
    "\tresp = requests.get(_url(q))\n",
    "\tif resp.status_code != 200:\n",
    "\t\t# This means something went wrong.\n",
    "\t\traise ApiError(resp.text, resp.status_code)\n",
    "\treturn resp"
   ]
  },
  {
   "cell_type": "code",
   "execution_count": null,
   "metadata": {},
   "outputs": [],
   "source": []
  },
  {
   "cell_type": "code",
   "execution_count": 9,
   "metadata": {},
   "outputs": [],
   "source": [
    "def getSubGridData(centerLat, centerLon, distanceLat, distanceLon, resolutionSquare, product, begin, end, Unit='m', optional_params=[]):\n",
    "\tdata = run_request(subGrid(centerLat, centerLon, distanceLat, distanceLon, resolutionSquare, product, begin, end, Unit='m', optional_params=['wspd', 'wdir']))\n",
    "\toutData = _generalParseXml(data)\n",
    "\treturn outData"
   ]
  },
  {
   "cell_type": "code",
   "execution_count": 10,
   "metadata": {},
   "outputs": [],
   "source": [
    "lat = 40.758701\n",
    "lon = -111.876183\n",
    "dist = 20\n",
    "resolution = 20\n",
    "start = '2020-07-15T00:00:00'\n",
    "end = '2020-07-16T00:00:00'"
   ]
  },
  {
   "cell_type": "code",
   "execution_count": 11,
   "metadata": {},
   "outputs": [
    {
     "name": "stdout",
     "output_type": "stream",
     "text": [
      "http://www.weather.gov/forecasts/xml/sample_products/browser_interface/ndfdXMLclient.php?centerPointLat=40.758701&centerPointLon=-111.876183&distanceLat=20&distanceLon=20&resolutionSquare=20&product=time-series&begin=2020-07-15T00:00:00&end=2020-07-16T00:00:00&Unit=m&wspd=wspd&wdir=wdir\n"
     ]
    }
   ],
   "source": [
    "data = getSubGridData(str(lat), str(lon), str(dist), str(dist), str(resolution), 'time-series', start, end, optional_params=['critfireo', 'dryfireo'] )"
   ]
  },
  {
   "cell_type": "code",
   "execution_count": 12,
   "metadata": {},
   "outputs": [
    {
     "name": "stdout",
     "output_type": "stream",
     "text": [
      "{'@version': '1.0', '@xmlns:xsd': 'http://www.w3.org/2001/XMLSchema', '@xmlns:xsi': 'http://www.w3.org/2001/XMLSchema-instance', '@xsi:noNamespaceSchemaLocation': 'https://graphical.weather.gov/xml/DWMLgen/schema/DWML.xsd', 'head': {'product': {'@srsName': 'WGS 1984', '@concise-name': 'time-series', '@operational-mode': 'official', 'title': \"NOAA's National Weather Service Forecast Data\", 'field': 'meteorological', 'category': 'forecast', 'creation-date': {'@refresh-frequency': 'PT1H', '#text': '2020-07-14T17:42:51Z'}}, 'source': {'more-information': 'https://graphical.weather.gov/xml/', 'production-center': {'sub-center': 'Product Generation Branch', '#text': 'Meteorological Development Laboratory'}, 'disclaimer': 'http://www.nws.noaa.gov/disclaimer.html', 'credit': 'https://www.weather.gov/', 'credit-logo': 'https://www.weather.gov/logorequest', 'feedback': 'https://www.weather.gov/contact'}}, 'data': {'location': [{'location-key': 'point1', 'point': {'@latitude': '40.53', '@longitude': '-112.10'}}, {'location-key': 'point2', 'point': {'@latitude': '40.66', '@longitude': '-112.12'}}, {'location-key': 'point3', 'point': {'@latitude': '40.79', '@longitude': '-112.14'}}, {'location-key': 'point4', 'point': {'@latitude': '40.92', '@longitude': '-112.16'}}, {'location-key': 'point5', 'point': {'@latitude': '40.55', '@longitude': '-111.93'}}, {'location-key': 'point6', 'point': {'@latitude': '40.68', '@longitude': '-111.95'}}, {'location-key': 'point7', 'point': {'@latitude': '40.81', '@longitude': '-111.97'}}, {'location-key': 'point8', 'point': {'@latitude': '40.94', '@longitude': '-111.99'}}, {'location-key': 'point9', 'point': {'@latitude': '40.57', '@longitude': '-111.75'}}, {'location-key': 'point10', 'point': {'@latitude': '40.70', '@longitude': '-111.77'}}, {'location-key': 'point11', 'point': {'@latitude': '40.83', '@longitude': '-111.80'}}, {'location-key': 'point12', 'point': {'@latitude': '40.96', '@longitude': '-111.82'}}, {'location-key': 'point13', 'point': {'@latitude': '40.58', '@longitude': '-111.58'}}, {'location-key': 'point14', 'point': {'@latitude': '40.71', '@longitude': '-111.60'}}, {'location-key': 'point15', 'point': {'@latitude': '40.84', '@longitude': '-111.62'}}, {'location-key': 'point16', 'point': {'@latitude': '40.97', '@longitude': '-111.64'}}], 'moreWeatherInformation': [{'@applicable-location': 'point1', '#text': 'https://forecast-v3.weather.gov/point/40.53,-112.10'}, {'@applicable-location': 'point2', '#text': 'https://forecast-v3.weather.gov/point/40.66,-112.12'}, {'@applicable-location': 'point3', '#text': 'https://forecast-v3.weather.gov/point/40.79,-112.14'}, {'@applicable-location': 'point4', '#text': 'https://forecast-v3.weather.gov/point/40.92,-112.16'}, {'@applicable-location': 'point5', '#text': 'https://forecast-v3.weather.gov/point/40.55,-111.93'}, {'@applicable-location': 'point6', '#text': 'https://forecast-v3.weather.gov/point/40.68,-111.95'}, {'@applicable-location': 'point7', '#text': 'https://forecast-v3.weather.gov/point/40.81,-111.97'}, {'@applicable-location': 'point8', '#text': 'https://forecast-v3.weather.gov/point/40.94,-111.99'}, {'@applicable-location': 'point9', '#text': 'https://forecast-v3.weather.gov/point/40.57,-111.75'}, {'@applicable-location': 'point10', '#text': 'https://forecast-v3.weather.gov/point/40.70,-111.77'}, {'@applicable-location': 'point11', '#text': 'https://forecast-v3.weather.gov/point/40.83,-111.80'}, {'@applicable-location': 'point12', '#text': 'https://forecast-v3.weather.gov/point/40.96,-111.82'}, {'@applicable-location': 'point13', '#text': 'https://forecast-v3.weather.gov/point/40.58,-111.58'}, {'@applicable-location': 'point14', '#text': 'https://forecast-v3.weather.gov/point/40.71,-111.60'}, {'@applicable-location': 'point15', '#text': 'https://forecast-v3.weather.gov/point/40.84,-111.62'}, {'@applicable-location': 'point16', '#text': 'https://forecast-v3.weather.gov/point/40.97,-111.64'}], 'time-layout': {'@time-coordinate': 'local', '@summarization': 'none', 'layout-key': 'k-p3h-n8-1', 'start-valid-time': ['2020-07-15T03:00:00-06:00', '2020-07-15T06:00:00-06:00', '2020-07-15T09:00:00-06:00', '2020-07-15T12:00:00-06:00', '2020-07-15T15:00:00-06:00', '2020-07-15T18:00:00-06:00', '2020-07-15T21:00:00-06:00', '2020-07-16T00:00:00-06:00']}, 'parameters': [{'@applicable-location': 'point1', 'wind-speed': {'@type': 'sustained', '@units': 'meters/second', '@time-layout': 'k-p3h-n8-1', 'name': 'Wind Speed', 'value': ['4', '3', '3', '4', '5', '5', '3', '3']}, 'direction': {'@type': 'wind', '@units': 'degrees true', '@time-layout': 'k-p3h-n8-1', 'name': 'Wind Direction', 'value': ['300', '270', '60', '360', '360', '350', '350', '70']}}, {'@applicable-location': 'point2', 'wind-speed': {'@type': 'sustained', '@units': 'meters/second', '@time-layout': 'k-p3h-n8-1', 'name': 'Wind Speed', 'value': ['3', '2', '3', '4', '5', '4', '3', '3']}, 'direction': {'@type': 'wind', '@units': 'degrees true', '@time-layout': 'k-p3h-n8-1', 'name': 'Wind Direction', 'value': ['260', '220', '30', '330', '340', '340', '350', '80']}}, {'@applicable-location': 'point3', 'wind-speed': {'@type': 'sustained', '@units': 'meters/second', '@time-layout': 'k-p3h-n8-1', 'name': 'Wind Speed', 'value': ['4', '4', '4', '4', '5', '5', '3', '2']}, 'direction': {'@type': 'wind', '@units': 'degrees true', '@time-layout': 'k-p3h-n8-1', 'name': 'Wind Direction', 'value': ['260', '200', '230', '310', '330', '330', '350', '120']}}, {'@applicable-location': 'point4', 'wind-speed': {'@type': 'sustained', '@units': 'meters/second', '@time-layout': 'k-p3h-n8-1', 'name': 'Wind Speed', 'value': ['5', '4', '3', '4', '5', '5', '2', '3']}, 'direction': {'@type': 'wind', '@units': 'degrees true', '@time-layout': 'k-p3h-n8-1', 'name': 'Wind Direction', 'value': ['10', '50', '40', '320', '330', '330', '360', '80']}}, {'@applicable-location': 'point5', 'wind-speed': {'@type': 'sustained', '@units': 'meters/second', '@time-layout': 'k-p3h-n8-1', 'name': 'Wind Speed', 'value': ['1', '3', '3', '4', '5', '5', '3', '2']}, 'direction': {'@type': 'wind', '@units': 'degrees true', '@time-layout': 'k-p3h-n8-1', 'name': 'Wind Direction', 'value': ['250', '220', '230', '330', '340', '340', '350', '90']}}, {'@applicable-location': 'point6', 'wind-speed': {'@type': 'sustained', '@units': 'meters/second', '@time-layout': 'k-p3h-n8-1', 'name': 'Wind Speed', 'value': ['3', '2', '3', '4', '6', '5', '3', '2']}, 'direction': {'@type': 'wind', '@units': 'degrees true', '@time-layout': 'k-p3h-n8-1', 'name': 'Wind Direction', 'value': ['340', '120', '210', '320', '330', '330', '350', '100']}}, {'@applicable-location': 'point7', 'wind-speed': {'@type': 'sustained', '@units': 'meters/second', '@time-layout': 'k-p3h-n8-1', 'name': 'Wind Speed', 'value': ['3', '3', '3', '4', '5', '5', '3', '3']}, 'direction': {'@type': 'wind', '@units': 'degrees true', '@time-layout': 'k-p3h-n8-1', 'name': 'Wind Direction', 'value': ['140', '110', '220', '310', '330', '330', '360', '110']}}, {'@applicable-location': 'point8', 'wind-speed': {'@type': 'sustained', '@units': 'meters/second', '@time-layout': 'k-p3h-n8-1', 'name': 'Wind Speed', 'value': ['5', '4', '4', '4', '5', '5', '3', '4']}, 'direction': {'@type': 'wind', '@units': 'degrees true', '@time-layout': 'k-p3h-n8-1', 'name': 'Wind Direction', 'value': ['100', '100', '170', '290', '310', '310', '360', '100']}}, {'@applicable-location': 'point9', 'wind-speed': {'@type': 'sustained', '@units': 'meters/second', '@time-layout': 'k-p3h-n8-1', 'name': 'Wind Speed', 'value': ['4', '3', '3', '3', '4', '4', '3', '3']}, 'direction': {'@type': 'wind', '@units': 'degrees true', '@time-layout': 'k-p3h-n8-1', 'name': 'Wind Direction', 'value': ['70', '100', '260', '290', '300', '310', '340', '30']}}, {'@applicable-location': 'point10', 'wind-speed': {'@type': 'sustained', '@units': 'meters/second', '@time-layout': 'k-p3h-n8-1', 'name': 'Wind Speed', 'value': ['4', '3', '3', '2', '3', '4', '4', '4']}, 'direction': {'@type': 'wind', '@units': 'degrees true', '@time-layout': 'k-p3h-n8-1', 'name': 'Wind Direction', 'value': ['100', '100', '290', '290', '300', '310', '10', '80']}}, {'@applicable-location': 'point11', 'wind-speed': {'@type': 'sustained', '@units': 'meters/second', '@time-layout': 'k-p3h-n8-1', 'name': 'Wind Speed', 'value': ['4', '3', '3', '3', '3', '4', '3', '4']}, 'direction': {'@type': 'wind', '@units': 'degrees true', '@time-layout': 'k-p3h-n8-1', 'name': 'Wind Direction', 'value': ['70', '70', '200', '290', '300', '300', '360', '70']}}, {'@applicable-location': 'point12', 'wind-speed': {'@type': 'sustained', '@units': 'meters/second', '@time-layout': 'k-p3h-n8-1', 'name': 'Wind Speed', 'value': ['5', '4', '3', '4', '5', '4', '3', '4']}, 'direction': {'@type': 'wind', '@units': 'degrees true', '@time-layout': 'k-p3h-n8-1', 'name': 'Wind Direction', 'value': ['90', '110', '150', '280', '280', '290', '320', '40']}}, {'@applicable-location': 'point13', 'wind-speed': {'@type': 'sustained', '@units': 'meters/second', '@time-layout': 'k-p3h-n8-1', 'name': 'Wind Speed', 'value': ['3', '3', '3', '2', '4', '3', '3', '3']}, 'direction': {'@type': 'wind', '@units': 'degrees true', '@time-layout': 'k-p3h-n8-1', 'name': 'Wind Direction', 'value': ['350', '260', '220', '260', '280', '290', '330', '340']}}, {'@applicable-location': 'point14', 'wind-speed': {'@type': 'sustained', '@units': 'meters/second', '@time-layout': 'k-p3h-n8-1', 'name': 'Wind Speed', 'value': ['3', '2', '3', '3', '4', '3', '1', '3']}, 'direction': {'@type': 'wind', '@units': 'degrees true', '@time-layout': 'k-p3h-n8-1', 'name': 'Wind Direction', 'value': ['140', '150', '100', '290', '290', '290', '340', '100']}}, {'@applicable-location': 'point15', 'wind-speed': {'@type': 'sustained', '@units': 'meters/second', '@time-layout': 'k-p3h-n8-1', 'name': 'Wind Speed', 'value': ['3', '3', '3', '4', '5', '4', '1', '3']}, 'direction': {'@type': 'wind', '@units': 'degrees true', '@time-layout': 'k-p3h-n8-1', 'name': 'Wind Direction', 'value': ['120', '160', '80', '280', '290', '290', '330', '100']}}, {'@applicable-location': 'point16', 'wind-speed': {'@type': 'sustained', '@units': 'meters/second', '@time-layout': 'k-p3h-n8-1', 'name': 'Wind Speed', 'value': ['3', '3', '3', '3', '5', '5', '2', '3']}, 'direction': {'@type': 'wind', '@units': 'degrees true', '@time-layout': 'k-p3h-n8-1', 'name': 'Wind Direction', 'value': ['110', '100', '100', '290', '290', '290', '320', '90']}}]}}\n"
     ]
    }
   ],
   "source": [
    "print(data['dwml'])"
   ]
  },
  {
   "cell_type": "code",
   "execution_count": 7,
   "metadata": {},
   "outputs": [
    {
     "name": "stdout",
     "output_type": "stream",
     "text": [
      "2020-08-18T17:50:16.277146 2020-08-19T17:50:16.277205\n"
     ]
    }
   ],
   "source": [
    "from datetime import datetime, timedelta\n",
    "start = str(datetime.now().isoformat())\n",
    "end = str((datetime.now()+timedelta(days=1)).isoformat())\n",
    "print(start, end)"
   ]
  },
  {
   "cell_type": "code",
   "execution_count": null,
   "metadata": {},
   "outputs": [],
   "source": []
  }
 ],
 "metadata": {
  "kernelspec": {
   "display_name": "Python 3",
   "language": "python",
   "name": "python3"
  },
  "language_info": {
   "codemirror_mode": {
    "name": "ipython",
    "version": 3
   },
   "file_extension": ".py",
   "mimetype": "text/x-python",
   "name": "python",
   "nbconvert_exporter": "python",
   "pygments_lexer": "ipython3",
   "version": "3.7.6"
  }
 },
 "nbformat": 4,
 "nbformat_minor": 4
}
