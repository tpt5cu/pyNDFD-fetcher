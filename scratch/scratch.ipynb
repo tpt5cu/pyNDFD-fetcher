{
 "cells": [
  {
   "cell_type": "code",
   "execution_count": 4,
   "metadata": {},
   "outputs": [],
   "source": [
    "#Use this to fix API calls and better parse xml "
   ]
  },
  {
   "cell_type": "code",
   "execution_count": 7,
   "metadata": {},
   "outputs": [],
   "source": [
    "import sys\n",
    "import pandas as pd\n",
    "import matplotlib.pyplot as plt\n",
    "import datetime\n",
    "import requests\n",
    "from urllib.parse import urlencode, quote\n",
    "import xml.etree.ElementTree as ET\n",
    "import xmltodict\n"
   ]
  },
  {
   "cell_type": "code",
   "execution_count": 1,
   "metadata": {},
   "outputs": [],
   "source": [
    "def singlePointDataQuery(lat1, lon1, product, begin, end, Unit='m', optional_params=['wspd', 'wdir']):\n",
    "\tparams = {\n",
    "\t\t'lat':lat1,\n",
    "\t\t'lon':lon1,\n",
    "\t\t'product':product\n",
    "\t}\n",
    "\tparams2 = {'begin':begin,\n",
    "\t'end':end\n",
    "\t}\n",
    "\tparams3 = {\n",
    "\t\t'Unit':Unit,\n",
    "\t}\n",
    "\turlString = urlencode(params)\n",
    "\tsubString = ''\n",
    "\tfor key, value in params2.items():\n",
    "\t\tsubString += '&'+str(key) + '=' + str(value)\n",
    "\turlString+=subString\n",
    "\tfor i in optional_params:\n",
    "\t\tparams3[i] = i\n",
    "\turlString +='&' + urlencode(params3)\n",
    "\treturn urlString"
   ]
  },
  {
   "cell_type": "code",
   "execution_count": 2,
   "metadata": {},
   "outputs": [],
   "source": [
    "def subGrid(centerPointLat, centerPointLon, distanceLat, distanceLon, resolutionSquare, product, begin, end, Unit='m', optional_params=['wspd', 'wdir']):\n",
    "\t#Split into 3 dictionaries, each are encoded in a different manner\n",
    "\tparams = {\n",
    "\t\t'centerPointLat':centerPointLat,\n",
    "\t\t'centerPointLon':centerPointLon,\n",
    "\t\t'distanceLat':distanceLat,\n",
    "\t\t'distanceLon':distanceLon,\n",
    "\t\t'resolutionSquare':resolutionSquare,\n",
    "\t\t'product':product\n",
    "\t}\n",
    "\t#Begin/end has special encoding\n",
    "\tparams2 = {'begin':begin,\n",
    "\t'end':end\n",
    "\t}\n",
    "\tparams3 = {\n",
    "\t\t'Unit':Unit,\n",
    "\t}\n",
    "\n",
    "\turlString = urlencode(params)\n",
    "\tsubString = ''\n",
    "\tfor key, value in params2.items():\n",
    "\t\tsubString += '&'+str(key) + '=' + str(value)\n",
    "\turlString+=subString\n",
    "\tfor i in optional_params:\n",
    "\t\tparams3[i] = i\n",
    "\turlString +='&' + urlencode(params3)\n",
    "\n",
    "\treturn urlString"
   ]
  },
  {
   "cell_type": "code",
   "execution_count": 3,
   "metadata": {},
   "outputs": [],
   "source": [
    "def run_request(q):\n",
    "\tprint(_url(q))\n",
    "\tresp = requests.get(_url(q))\n",
    "\tif resp.status_code != 200:\n",
    "\t\t# This means something went wrong.\n",
    "\t\tprint(resp.status_code)\n",
    "\t\traise ApiError('GET /tasks/ {}'.format(resp.status_code))\n",
    "\treturn resp"
   ]
  },
  {
   "cell_type": "code",
   "execution_count": 4,
   "metadata": {},
   "outputs": [],
   "source": [
    "\n",
    "#Main URL path\n",
    "def _url(path=''):\n",
    "    return 'http://www.weather.gov/forecasts/xml/sample_products/browser_interface/ndfdXMLclient.php?' + path\n"
   ]
  },
  {
   "cell_type": "code",
   "execution_count": 64,
   "metadata": {},
   "outputs": [],
   "source": [
    "#Still in dev, now returns values for certain methods\n",
    "def parseXml(data):\n",
    "\toutDict = {}\n",
    "\t#Load xml object into dictionary\n",
    "\td = xmltodict.parse(data.content)\t\n",
    "\t#use dataDict as base content dictionary, we only care about this\n",
    "\tdataDict = d['dwml']['data']\n",
    "\tprint(dataDict)\n",
    "#     print(dataDict.keys())\n",
    "\t#Put list of points  into outDict, lat and long are now called @latitude and @longitude\n",
    "\tfor key in dataDict['location']:\n",
    "\t\toutDict[key['location-key']] = [{'loc':key['point']}]\n",
    "\t#Make a faux list called locationsList. This is iterated over to fill outDict for now because xml structure is annoying.\n",
    "\tlocationsList = list(outDict.keys())\n",
    "\tfor i in range(len(locationsList)):\n",
    "\t\tfor j in range(len((dataDict['parameters'][i]['wind-speed']['value']))):\n",
    "\t\t\toutDict[locationsList[i]].append({'wind-speed':dataDict['parameters'][i]['wind-speed']['value'][j]})\n",
    "\t\t\toutDict[locationsList[i]].append({'wind-direction':dataDict['parameters'][i]['direction']['value'][j]})\n",
    "\t\t\toutDict[locationsList[i]].append({'time':dataDict['time-layout']['start-valid-time'][j]})\n",
    "\t#Maybe make time stamp a key for other info\n",
    "\t#For structure is:\n",
    "\t\"\"\"\n",
    "\toutDict = {\n",
    "\t\t'point1':{[\n",
    "\t\t\t{'loc':{(@latitude, '00.00'), (@longitude, '00.00')}},\n",
    "\t\t\t{'wind-speed':'6'}, \n",
    "\t\t\t{'wind-direction':'9'}, \n",
    "\t\t\t{'time':2020-02-06T22:00:00-05:00'}]\n",
    "\t\t}\n",
    "\t\t'point2':{same struct as above},\n",
    "\t\t'pointxx'\n",
    "\t}\n",
    "\t\"\"\"\n",
    "\treturn outDict\n"
   ]
  },
  {
   "cell_type": "code",
   "execution_count": 111,
   "metadata": {},
   "outputs": [],
   "source": [
    "def getDataZipcode(zipcodes, product, begin, end, optional_params=['wspd', 'wdir']):\n",
    "\tparams = {\n",
    "\t\t'zipCodeList': zipcodes,\n",
    "\t\t'product': product,\n",
    "\t\t'begin': begin,\n",
    "\t\t'end': end\n",
    "\t}\n",
    "\tfor i in optional_params:\n",
    "\t\tparams[i] = i\n",
    "\treturn urlencode(params)"
   ]
  },
  {
   "cell_type": "code",
   "execution_count": 209,
   "metadata": {},
   "outputs": [
    {
     "name": "stdout",
     "output_type": "stream",
     "text": [
      "http://www.weather.gov/forecasts/xml/sample_products/browser_interface/ndfdXMLclient.php?zipCodeList=22152+22150&product=time-series&begin=2020-05-21T12%3A00%3A00&end=2020-05-22T17%3A00%3A00&wspd=wspd&wdir=wdir\n"
     ]
    }
   ],
   "source": [
    "data2 = run_request(getDataZipcode('22152 22150', 'time-series', '2020-05-21T12:00:00', '2020-05-22T17:00:00' ))"
   ]
  },
  {
   "cell_type": "code",
   "execution_count": 229,
   "metadata": {},
   "outputs": [
    {
     "name": "stdout",
     "output_type": "stream",
     "text": [
      "{'location': [{'location-key': 'point1', 'point': {'@latitude': '38.79', '@longitude': '-77.18'}}, {'location-key': 'point2', 'point': {'@latitude': '38.79', '@longitude': '-77.18'}}], 'moreWeatherInformation': [{'@applicable-location': 'point1', '#text': 'https://forecast-v3.weather.gov/point/38.79,-77.18'}, {'@applicable-location': 'point2', '#text': 'https://forecast-v3.weather.gov/point/38.79,-77.18'}], 'time-layout': {'@time-coordinate': 'local', '@summarization': 'none', 'layout-key': 'k-p3h-n41-1', 'start-valid-time': ['2020-05-19T20:00:00-04:00', '2020-05-19T23:00:00-04:00', '2020-05-20T02:00:00-04:00', '2020-05-20T05:00:00-04:00', '2020-05-20T08:00:00-04:00', '2020-05-20T11:00:00-04:00', '2020-05-20T14:00:00-04:00', '2020-05-20T17:00:00-04:00', '2020-05-20T20:00:00-04:00', '2020-05-20T23:00:00-04:00', '2020-05-21T02:00:00-04:00', '2020-05-21T05:00:00-04:00', '2020-05-21T08:00:00-04:00', '2020-05-21T11:00:00-04:00', '2020-05-21T14:00:00-04:00', '2020-05-21T17:00:00-04:00', '2020-05-21T20:00:00-04:00', '2020-05-21T23:00:00-04:00', '2020-05-22T02:00:00-04:00', '2020-05-22T05:00:00-04:00', '2020-05-22T08:00:00-04:00', '2020-05-22T11:00:00-04:00', '2020-05-22T14:00:00-04:00', '2020-05-22T17:00:00-04:00', '2020-05-22T20:00:00-04:00', '2020-05-23T02:00:00-04:00', '2020-05-23T08:00:00-04:00', '2020-05-23T14:00:00-04:00', '2020-05-23T20:00:00-04:00', '2020-05-24T02:00:00-04:00', '2020-05-24T08:00:00-04:00', '2020-05-24T14:00:00-04:00', '2020-05-24T20:00:00-04:00', '2020-05-25T02:00:00-04:00', '2020-05-25T08:00:00-04:00', '2020-05-25T14:00:00-04:00', '2020-05-25T20:00:00-04:00', '2020-05-26T02:00:00-04:00', '2020-05-26T08:00:00-04:00', '2020-05-26T14:00:00-04:00', '2020-05-26T20:00:00-04:00']}, 'parameters': [{'@applicable-location': 'point1', 'wind-speed': {'@type': 'sustained', '@units': 'knots', '@time-layout': 'k-p3h-n41-1', 'name': 'Wind Speed', 'value': ['13', '13', '10', '10', '10', '11', '12', '12', '10', '9', '6', '8', '7', '9', '7', '9', '7', '7', '5', '7', '7', '6', '5', '4', '4', '3', '4', '2', '2', '2', '4', '4', '4', '2', '2', '3', '3', '2', '2', '3', '3']}, 'direction': {'@type': 'wind', '@units': 'degrees true', '@time-layout': 'k-p3h-n41-1', 'name': 'Wind Direction', 'value': ['70', '70', '50', '60', '60', '70', '80', '80', '80', '70', '70', '60', '60', '60', '80', '80', '90', '80', '80', '70', '80', '80', '90', '80', '50', '0', '340', '30', '70', '60', '60', '80', '110', '90', '60', '100', '110', '120', '80', '140', '130']}}, {'@applicable-location': 'point2', 'wind-speed': {'@type': 'sustained', '@units': 'knots', '@time-layout': 'k-p3h-n41-1', 'name': 'Wind Speed', 'value': ['13', '13', '10', '10', '10', '11', '12', '12', '10', '9', '6', '8', '7', '9', '7', '9', '7', '7', '5', '7', '7', '6', '5', '4', '4', '3', '4', '2', '2', '2', '4', '4', '4', '2', '2', '3', '3', '2', '2', '3', '3']}, 'direction': {'@type': 'wind', '@units': 'degrees true', '@time-layout': 'k-p3h-n41-1', 'name': 'Wind Direction', 'value': ['70', '70', '50', '60', '60', '70', '80', '80', '80', '70', '70', '60', '60', '60', '80', '80', '90', '80', '80', '70', '80', '80', '90', '80', '50', '0', '340', '30', '70', '60', '60', '80', '110', '90', '60', '100', '110', '120', '80', '140', '130']}}]}\n"
     ]
    }
   ],
   "source": [
    "import json\n",
    "o = xmltodict.parse(data2.content)\n",
    "d = json.dumps(o)\n",
    "d = json.loads(d)\n",
    "# print(d)\n",
    "print(d['dwml']['data'])"
   ]
  },
  {
   "cell_type": "code",
   "execution_count": 66,
   "metadata": {},
   "outputs": [
    {
     "name": "stdout",
     "output_type": "stream",
     "text": [
      "http://www.weather.gov/forecasts/xml/sample_products/browser_interface/ndfdXMLclient.php?lat=39.0000&lon=-77.0000&product=time-series&begin=2020-05-21T12:00:00&end=2020-05-22T17:00:00&Unit=m&wspd=wspd&wdir=wdir\n"
     ]
    }
   ],
   "source": [
    "data = run_request(singlePointDataQuery('39.0000', '-77.0000','time-series', '2020-05-21T12:00:00', '2020-05-22T17:00:00'))"
   ]
  },
  {
   "cell_type": "code",
   "execution_count": 67,
   "metadata": {},
   "outputs": [
    {
     "name": "stdout",
     "output_type": "stream",
     "text": [
      "OrderedDict([('location', OrderedDict([('location-key', 'point1'), ('point', OrderedDict([('@latitude', '39.00'), ('@longitude', '-77.00')]))])), ('moreWeatherInformation', OrderedDict([('@applicable-location', 'point1'), ('#text', 'https://forecast-v3.weather.gov/point/39.00,-77.00')])), ('time-layout', OrderedDict([('@time-coordinate', 'local'), ('@summarization', 'none'), ('layout-key', 'k-p3h-n7-1'), ('start-valid-time', ['2020-05-21T14:00:00-04:00', '2020-05-21T17:00:00-04:00', '2020-05-21T20:00:00-04:00', '2020-05-22T02:00:00-04:00', '2020-05-22T08:00:00-04:00', '2020-05-22T14:00:00-04:00', '2020-05-22T20:00:00-04:00'])])), ('parameters', OrderedDict([('@applicable-location', 'point1'), ('wind-speed', OrderedDict([('@type', 'sustained'), ('@units', 'meters/second'), ('@time-layout', 'k-p3h-n7-1'), ('name', 'Wind Speed'), ('value', ['4', '5', '4', '3', '1', '1', '1'])])), ('direction', OrderedDict([('@type', 'wind'), ('@units', 'degrees true'), ('@time-layout', 'k-p3h-n7-1'), ('name', 'Wind Direction'), ('value', ['90', '90', '90', '80', '70', '80', '60'])]))]))])\n"
     ]
    },
    {
     "ename": "TypeError",
     "evalue": "string indices must be integers",
     "output_type": "error",
     "traceback": [
      "\u001b[0;31m---------------------------------------------------------------------------\u001b[0m",
      "\u001b[0;31mTypeError\u001b[0m                                 Traceback (most recent call last)",
      "\u001b[0;32m<ipython-input-67-b92a3a235d4f>\u001b[0m in \u001b[0;36m<module>\u001b[0;34m\u001b[0m\n\u001b[0;32m----> 1\u001b[0;31m \u001b[0mparseXml\u001b[0m\u001b[0;34m(\u001b[0m\u001b[0mdata\u001b[0m\u001b[0;34m)\u001b[0m\u001b[0;34m\u001b[0m\u001b[0;34m\u001b[0m\u001b[0m\n\u001b[0m",
      "\u001b[0;32m<ipython-input-64-b0724765dd47>\u001b[0m in \u001b[0;36mparseXml\u001b[0;34m(data)\u001b[0m\n\u001b[1;32m     10\u001b[0m         \u001b[0;31m#Put list of points  into outDict, lat and long are now called @latitude and @longitude\u001b[0m\u001b[0;34m\u001b[0m\u001b[0;34m\u001b[0m\u001b[0;34m\u001b[0m\u001b[0m\n\u001b[1;32m     11\u001b[0m         \u001b[0;32mfor\u001b[0m \u001b[0mkey\u001b[0m \u001b[0;32min\u001b[0m \u001b[0mdataDict\u001b[0m\u001b[0;34m[\u001b[0m\u001b[0;34m'location'\u001b[0m\u001b[0;34m]\u001b[0m\u001b[0;34m:\u001b[0m\u001b[0;34m\u001b[0m\u001b[0;34m\u001b[0m\u001b[0m\n\u001b[0;32m---> 12\u001b[0;31m                 \u001b[0moutDict\u001b[0m\u001b[0;34m[\u001b[0m\u001b[0mkey\u001b[0m\u001b[0;34m[\u001b[0m\u001b[0;34m'location-key'\u001b[0m\u001b[0;34m]\u001b[0m\u001b[0;34m]\u001b[0m \u001b[0;34m=\u001b[0m \u001b[0;34m[\u001b[0m\u001b[0;34m{\u001b[0m\u001b[0;34m'loc'\u001b[0m\u001b[0;34m:\u001b[0m\u001b[0mkey\u001b[0m\u001b[0;34m[\u001b[0m\u001b[0;34m'point'\u001b[0m\u001b[0;34m]\u001b[0m\u001b[0;34m}\u001b[0m\u001b[0;34m]\u001b[0m\u001b[0;34m\u001b[0m\u001b[0;34m\u001b[0m\u001b[0m\n\u001b[0m\u001b[1;32m     13\u001b[0m         \u001b[0;31m#Make a faux list called locationsList. This is iterated over to fill outDict for now because xml structure is annoying.\u001b[0m\u001b[0;34m\u001b[0m\u001b[0;34m\u001b[0m\u001b[0;34m\u001b[0m\u001b[0m\n\u001b[1;32m     14\u001b[0m         \u001b[0mlocationsList\u001b[0m \u001b[0;34m=\u001b[0m \u001b[0mlist\u001b[0m\u001b[0;34m(\u001b[0m\u001b[0moutDict\u001b[0m\u001b[0;34m.\u001b[0m\u001b[0mkeys\u001b[0m\u001b[0;34m(\u001b[0m\u001b[0;34m)\u001b[0m\u001b[0;34m)\u001b[0m\u001b[0;34m\u001b[0m\u001b[0;34m\u001b[0m\u001b[0m\n",
      "\u001b[0;31mTypeError\u001b[0m: string indices must be integers"
     ]
    }
   ],
   "source": [
    "parseXml(data)"
   ]
  },
  {
   "cell_type": "code",
   "execution_count": 208,
   "metadata": {},
   "outputs": [
    {
     "name": "stdout",
     "output_type": "stream",
     "text": [
      "odict_keys(['location', 'moreWeatherInformation', 'time-layout', 'parameters'])\n",
      "{'point1': {'latitude': '39.00', 'longitude': '-77.00', 'data': []}}\n",
      "*************************\n",
      "[{'datetime': '2020-05-21T14:00:00-04:00'}, {'wind-speed': '4'}, {'direction': '90'}]\n"
     ]
    }
   ],
   "source": [
    "d = xmltodict.parse(data.content)\n",
    "outDict = {}\n",
    "print(d['dwml']['data'].keys())\n",
    "locs = d['dwml']['data']['location']\n",
    "locKey = locs['location-key']\n",
    "lat = (locs['point']['@latitude'])\n",
    "lon = locs['point']['@longitude']\n",
    "outDict[locKey] = {'latitude':lat, 'longitude':lon}\n",
    "outDict[locKey]['data'] = []\n",
    "print(outDict)\n",
    "print(\"*************************\")\n",
    "for i in (d['dwml']['data']['time-layout']['start-valid-time']):\n",
    "    outDict[locKey]['data'].append([{'datetime':i}])\n",
    "# print(len(d['dwml']['data']['time-layout']['start-valid-time']))\n",
    "# weatherData = [0]*len(d['dwml']['data']['time-layout']['start-valid-time'])\n",
    "# print((outDict[locKey]['data'][0]))\n",
    "# print(weatherData)\n",
    "params = list((d['dwml']['data']['parameters'].keys()))\n",
    "for param in range(1,len(params)):\n",
    "    idx = 0\n",
    "    for value in d['dwml']['data']['parameters'][params[param]]['value']:\n",
    "        outDict[locKey]['data'][idx].append({params[param]:value})\n",
    "        idx+=1\n",
    "    \n"
   ]
  },
  {
   "cell_type": "code",
   "execution_count": 147,
   "metadata": {},
   "outputs": [
    {
     "name": "stdout",
     "output_type": "stream",
     "text": [
      "odict_keys(['location', 'moreWeatherInformation', 'time-layout', 'parameters'])\n",
      "OrderedDict([('location-key', 'point1'), ('point', OrderedDict([('@latitude', '38.79'), ('@longitude', '-77.18')]))])\n",
      "*************************\n"
     ]
    }
   ],
   "source": [
    "d2 = xmltodict.parse(data2.content)\n",
    "print(d2['dwml']['data'].keys())\n",
    "locs = d2['dwml']['data']['location']\n",
    "print((locs)[0])\n",
    "print(\"*************************\")"
   ]
  },
  {
   "cell_type": "code",
   "execution_count": null,
   "metadata": {},
   "outputs": [],
   "source": []
  }
 ],
 "metadata": {
  "kernelspec": {
   "display_name": "Python 3",
   "language": "python",
   "name": "python3"
  },
  "language_info": {
   "codemirror_mode": {
    "name": "ipython",
    "version": 3
   },
   "file_extension": ".py",
   "mimetype": "text/x-python",
   "name": "python",
   "nbconvert_exporter": "python",
   "pygments_lexer": "ipython3",
   "version": "3.7.6"
  }
 },
 "nbformat": 4,
 "nbformat_minor": 4
}
